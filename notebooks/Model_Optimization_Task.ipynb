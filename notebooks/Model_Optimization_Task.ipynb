{
 "cells": [
  {
   "cell_type": "markdown",
   "metadata": {
    "id": "aSG27MYdm2tA"
   },
   "source": [
    "# Model Optimization\n",
    "\n",
    "The objective of this task is to optimize this fine-tuned [roberta](https://huggingface.co/cardiffnlp/twitter-roberta-base-emotion) model and bring down its latency and size to atleast 40 percent of its base model. You are free to use any optimization strategy and framework.\n",
    "\n",
    "It is also your responsibility to showcase and compare  the latency and model size of between the base model and optimized model using any python tool of your choice.\n",
    "\n",
    "Also showcase the optimized model classification performance and compare it with the base model."
   ]
  },
  {
   "cell_type": "markdown",
   "metadata": {},
   "source": [
    "## Tasks"
   ]
  },
  {
   "cell_type": "markdown",
   "metadata": {},
   "source": [
    "In this assignment you are provided with two tasks and you are expected to complete both of them.\n",
    "\n",
    "Task 1- Model Optimization\n",
    "\n",
    "Open the notebook attached with this and perform the task mentioned in them.\n",
    "\n",
    "\n",
    "Task 2 - Model Serving\n",
    "\n",
    "The objective of this task is to serve the models which you have generated in the previous task. \n",
    "\n",
    "\t1. You can use flask or fast api in python and create seperate POST endpoints for both base and optimized model\n",
    "in such way we can make predictions out of both models at the same time.\n",
    "\t2. Dockerize the above mentioned server and push it to docker hub and submit the image link along with the notebook.\n",
    "(NOTE :Please place the model weights inside the image for easier evaluation)\n",
    "\n",
    "\n",
    "(OPTIONAL)Task 3 - Kafka integration\n",
    "\n",
    "This is a optional task you can up if you are comfortable with kafka for extra points.\n",
    "\n",
    "\t1. Add Kafka topics to both the endpoints in the previous task in such a way so that you are consuming the request for \n",
    "both the models in a seperate topic and sending the responses back in seperate topic. (eg topics : model1-in, model1-out, model2-in , model2-out)\n",
    "\t2. Create a docker-compose file in such a way it can host a docker based kafka broker as well as your image from previous task.\n",
    "Submit the compose file for evaluation.(Make sure to test the compose file for any hiccups before submitting).\n",
    "\n",
    "\n",
    "For any queries in the task please reach out to ashwin.kumar@uniphore.com\n",
    "\n"
   ]
  },
  {
   "cell_type": "code",
   "execution_count": null,
   "metadata": {
    "id": "5_uBUzLrxrKq"
   },
   "outputs": [],
   "source": [
    "#Do all your tasks in the same notebook and submit it back"
   ]
  }
 ],
 "metadata": {
  "colab": {
   "provenance": []
  },
  "kernelspec": {
   "display_name": "Python 3 (ipykernel)",
   "language": "python",
   "name": "python3"
  },
  "language_info": {
   "codemirror_mode": {
    "name": "ipython",
    "version": 3
   },
   "file_extension": ".py",
   "mimetype": "text/x-python",
   "name": "python",
   "nbconvert_exporter": "python",
   "pygments_lexer": "ipython3",
   "version": "3.11.2"
  }
 },
 "nbformat": 4,
 "nbformat_minor": 1
}
